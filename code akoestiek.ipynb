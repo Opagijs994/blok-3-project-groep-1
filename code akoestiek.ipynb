{
 "cells": [
  {
   "cell_type": "code",
   "execution_count": 1,
   "id": "84f47dcb-db61-4220-b8d4-beeb72c45a43",
   "metadata": {},
   "outputs": [
    {
     "data": {
      "text/plain": [
       "   0 Microsoft-geluidstoewijzing - Input, MME (2 in, 0 out)\n",
       ">  1 Microphone Array (Intel® Smart , MME (4 in, 0 out)\n",
       "   2 Microsoft-geluidstoewijzing - Output, MME (0 in, 2 out)\n",
       "<  3 Speakers (Realtek(R) Audio), MME (0 in, 2 out)\n",
       "   4 Hoofdtelefoon (), Windows WDM-KS (0 in, 2 out)\n",
       "   5 Headphones (Realtek HD Audio 2nd output), Windows WDM-KS (0 in, 2 out)\n",
       "   6 Microfoon 1 (Realtek HD Audio Mic input with SST), Windows WDM-KS (2 in, 0 out)\n",
       "   7 Microfoon 2 (Realtek HD Audio Mic input with SST), Windows WDM-KS (4 in, 0 out)\n",
       "   8 Speakers 1 (Realtek HD Audio output with SST), Windows WDM-KS (0 in, 2 out)\n",
       "   9 Speakers 2 (Realtek HD Audio output with SST), Windows WDM-KS (0 in, 2 out)\n",
       "  10 Pc-luidspreker (Realtek HD Audio output with SST), Windows WDM-KS (2 in, 0 out)\n",
       "  11 Stereo-mix (Realtek HD Audio Stereo input), Windows WDM-KS (2 in, 0 out)\n",
       "  12 Hoofdtelefoon (), Windows WDM-KS (0 in, 2 out)\n",
       "  13 Luidsprekers (), Windows WDM-KS (0 in, 2 out)\n",
       "  14 Microfoonmatrix 1 (Intel® Smart Sound Technologie DMIC microfoon), Windows WDM-KS (2 in, 0 out)\n",
       "  15 Microfoonmatrix 2 (Intel® Smart Sound Technologie DMIC microfoon), Windows WDM-KS (4 in, 0 out)\n",
       "  16 Hoofdtelefoon (), Windows WDM-KS (0 in, 2 out)\n",
       "  17 Luidsprekers (), Windows WDM-KS (0 in, 2 out)"
      ]
     },
     "execution_count": 1,
     "metadata": {},
     "output_type": "execute_result"
    }
   ],
   "source": [
    "#alle nodige imports\n",
    "import matplotlib.pyplot as plt\n",
    "import sounddevice as sd\n",
    "import numpy as np\n",
    "from mijngeluid import fft_partitioned\n",
    "\n",
    "sd.query_devices()#geeft de beschikbaren devices weer"
   ]
  },
  {
   "cell_type": "code",
   "execution_count": 9,
   "id": "200839be-e315-4744-8b84-6b77fc86eb15",
   "metadata": {},
   "outputs": [
    {
     "data": {
      "text/plain": [
       "(264600, 2)"
      ]
     },
     "execution_count": 9,
     "metadata": {},
     "output_type": "execute_result"
    }
   ],
   "source": [
    "fs = 44100 #aantal meetpunten per seconde\n",
    "duration = 6 #tijd van de meting\n",
    "arr = sd.rec(int((duration * fs)), samplerate=fs, channels=2, dtype='float32', device=1) #opnemen geluid\n",
    "\n",
    "sd.wait()#om er zeker van te zijn dat de opname klaar is\n",
    "arr.shape#geeft de grote van de opname weer"
   ]
  },
  {
   "cell_type": "code",
   "execution_count": null,
   "id": "e6ce2f69-4f60-4deb-a3c3-f3f4effcbe22",
   "metadata": {},
   "outputs": [],
   "source": []
  },
  {
   "cell_type": "code",
   "execution_count": 3,
   "id": "1ddcf49d-e04b-4748-8b26-5b70f1667a8d",
   "metadata": {},
   "outputs": [],
   "source": [
    "myrecording = sd.play(arr)#afspelen van de opname"
   ]
  },
  {
   "cell_type": "code",
   "execution_count": 4,
   "id": "e59af03c-5cbc-49c7-858e-8afe6894059a",
   "metadata": {},
   "outputs": [
    {
     "data": {
      "text/html": [
       "<div>\n",
       "<style scoped>\n",
       "    .dataframe tbody tr th:only-of-type {\n",
       "        vertical-align: middle;\n",
       "    }\n",
       "\n",
       "    .dataframe tbody tr th {\n",
       "        vertical-align: top;\n",
       "    }\n",
       "\n",
       "    .dataframe thead th {\n",
       "        text-align: right;\n",
       "    }\n",
       "</style>\n",
       "<table border=\"1\" class=\"dataframe\">\n",
       "  <thead>\n",
       "    <tr style=\"text-align: right;\">\n",
       "      <th></th>\n",
       "      <th>t</th>\n",
       "      <th>x</th>\n",
       "      <th>y</th>\n",
       "    </tr>\n",
       "  </thead>\n",
       "  <tbody>\n",
       "    <tr>\n",
       "      <th>0</th>\n",
       "      <td>0.01</td>\n",
       "      <td>0.000000</td>\n",
       "      <td>4.152051e-07</td>\n",
       "    </tr>\n",
       "    <tr>\n",
       "      <th>1</th>\n",
       "      <td>0.01</td>\n",
       "      <td>100.684932</td>\n",
       "      <td>1.104058e-06</td>\n",
       "    </tr>\n",
       "    <tr>\n",
       "      <th>2</th>\n",
       "      <td>0.01</td>\n",
       "      <td>201.369863</td>\n",
       "      <td>3.315286e-07</td>\n",
       "    </tr>\n",
       "    <tr>\n",
       "      <th>3</th>\n",
       "      <td>0.01</td>\n",
       "      <td>302.054795</td>\n",
       "      <td>7.400583e-07</td>\n",
       "    </tr>\n",
       "    <tr>\n",
       "      <th>4</th>\n",
       "      <td>0.01</td>\n",
       "      <td>402.739726</td>\n",
       "      <td>1.787577e-06</td>\n",
       "    </tr>\n",
       "    <tr>\n",
       "      <th>...</th>\n",
       "      <td>...</td>\n",
       "      <td>...</td>\n",
       "      <td>...</td>\n",
       "    </tr>\n",
       "    <tr>\n",
       "      <th>215</th>\n",
       "      <td>6.00</td>\n",
       "      <td>21647.260274</td>\n",
       "      <td>2.285477e-05</td>\n",
       "    </tr>\n",
       "    <tr>\n",
       "      <th>216</th>\n",
       "      <td>6.00</td>\n",
       "      <td>21747.945205</td>\n",
       "      <td>1.018021e-05</td>\n",
       "    </tr>\n",
       "    <tr>\n",
       "      <th>217</th>\n",
       "      <td>6.00</td>\n",
       "      <td>21848.630137</td>\n",
       "      <td>1.024410e-05</td>\n",
       "    </tr>\n",
       "    <tr>\n",
       "      <th>218</th>\n",
       "      <td>6.00</td>\n",
       "      <td>21949.315068</td>\n",
       "      <td>6.635191e-06</td>\n",
       "    </tr>\n",
       "    <tr>\n",
       "      <th>219</th>\n",
       "      <td>6.00</td>\n",
       "      <td>22050.000000</td>\n",
       "      <td>1.449451e-05</td>\n",
       "    </tr>\n",
       "  </tbody>\n",
       "</table>\n",
       "<p>132000 rows × 3 columns</p>\n",
       "</div>"
      ],
      "text/plain": [
       "        t             x             y\n",
       "0    0.01      0.000000  4.152051e-07\n",
       "1    0.01    100.684932  1.104058e-06\n",
       "2    0.01    201.369863  3.315286e-07\n",
       "3    0.01    302.054795  7.400583e-07\n",
       "4    0.01    402.739726  1.787577e-06\n",
       "..    ...           ...           ...\n",
       "215  6.00  21647.260274  2.285477e-05\n",
       "216  6.00  21747.945205  1.018021e-05\n",
       "217  6.00  21848.630137  1.024410e-05\n",
       "218  6.00  21949.315068  6.635191e-06\n",
       "219  6.00  22050.000000  1.449451e-05\n",
       "\n",
       "[132000 rows x 3 columns]"
      ]
     },
     "execution_count": 4,
     "metadata": {},
     "output_type": "execute_result"
    }
   ],
   "source": [
    "df = fft_partitioned(arr[:,0], fs, duration, t_bin=1e-2) # t_bin is de bin grootte in seconden. fast fourier transformatie\n",
    "df#print de fast fourier transformatie uitkomst"
   ]
  },
  {
   "cell_type": "code",
   "execution_count": null,
   "id": "8a102a8b-80d0-4fa9-bd28-87534298b046",
   "metadata": {},
   "outputs": [],
   "source": []
  },
  {
   "cell_type": "code",
   "execution_count": 12,
   "id": "1a5a068e-49eb-4500-aeed-1f529752811b",
   "metadata": {
    "tags": []
   },
   "outputs": [
    {
     "data": {
      "text/plain": [
       "Text(0, 0.5, 'dB ')"
      ]
     },
     "execution_count": 12,
     "metadata": {},
     "output_type": "execute_result"
    },
    {
     "data": {
      "image/png": "[encoded data removed]",
      "text/plain": [
       "<Figure size 432x288 with 1 Axes>"
      ]
     },
     "metadata": {
      "needs_background": "light"
     },
     "output_type": "display_data"
    }
   ],
   "source": [
    "plt.plot(df.t, 10 * np.log10(df.y/10**-12), 'r-')#plot met dB en tijd\n",
    "plt.grid()#grid lines maken in de plot\n",
    "plt.xlabel(r\"Tijd $t$ [s]\")#xlabel maken\n",
    "plt.ylabel(r\"dB \")#ylabel maken\n",
    "plt.xlim(0, 12)#inzoomen op de xas\n",
    "plt.ylim(80, 115)#inzoomen op de yas"
   ]
  },
  {
   "cell_type": "code",
   "execution_count": null,
   "id": "58435d13-2051-4772-b94b-03ff796c31af",
   "metadata": {},
   "outputs": [],
   "source": []
  },
  {
   "cell_type": "code",
   "execution_count": null,
   "id": "215ca5f0-5254-46db-860c-701a82a44fa1",
   "metadata": {},
   "outputs": [],
   "source": []
  },
  {
   "cell_type": "raw",
   "id": "cd396e4e-973b-491e-b50f-a1938f5fa3e7",
   "metadata": {},
   "source": []
  },
  {
   "cell_type": "code",
   "execution_count": null,
   "id": "bbc86f20-b50a-4b80-b8bc-e69fb5101268",
   "metadata": {},
   "outputs": [],
   "source": []
  },
  {
   "cell_type": "code",
   "execution_count": null,
   "id": "20625bff-4ceb-4819-9fd2-1b49d6605ff6",
   "metadata": {},
   "outputs": [],
   "source": []
  },
  {
   "cell_type": "code",
   "execution_count": null,
   "id": "fa0c5d9a-30ed-4b91-9d81-0ad06395bba3",
   "metadata": {},
   "outputs": [],
   "source": []
  },
  {
   "cell_type": "code",
   "execution_count": null,
   "id": "8ace6489-2486-4d67-8c2a-75be579f763d",
   "metadata": {},
   "outputs": [],
   "source": []
  },
  {
   "cell_type": "code",
   "execution_count": null,
   "id": "97cf4027-54ab-48b5-9c06-6131621e9e03",
   "metadata": {},
   "outputs": [],
   "source": []
  },
  {
   "cell_type": "code",
   "execution_count": null,
   "id": "2f099e9a-2382-45ae-99e0-562207403602",
   "metadata": {},
   "outputs": [],
   "source": []
  },
  {
   "cell_type": "code",
   "execution_count": null,
   "id": "e3c31b07-ecb5-42b7-8186-71be0a6839b4",
   "metadata": {},
   "outputs": [],
   "source": []
  }
 ],
 "metadata": {
  "kernelspec": {
   "display_name": "Python 3",
   "language": "python",
   "name": "python3"
  },
  "language_info": {
   "codemirror_mode": {
    "name": "ipython",
    "version": 3
   },
   "file_extension": ".py",
   "mimetype": "text/x-python",
   "name": "python",
   "nbconvert_exporter": "python",
   "pygments_lexer": "ipython3",
   "version": "3.8.8"
  },
  "toc-showmarkdowntxt": false
 },
 "nbformat": 4,
 "nbformat_minor": 5
}
